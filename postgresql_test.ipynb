{
 "cells": [
  {
   "cell_type": "code",
   "execution_count": 1,
   "id": "96aa18ec",
   "metadata": {},
   "outputs": [],
   "source": [
    "import psycopg2\n",
    "\n",
    "# connect to database\n",
    "conn = psycopg2.connect(\n",
    "                        user=\"postgres\",\n",
    "                        password=\"postgres\",\n",
    "                        host=\"localhost\",\n",
    "                        port=\"5432\")"
   ]
  },
  {
   "cell_type": "code",
   "execution_count": 2,
   "id": "a1010b86",
   "metadata": {},
   "outputs": [
    {
     "name": "stdout",
     "output_type": "stream",
     "text": [
      "<connection object at 0x7fcddf9a79c0; dsn: 'user=postgres password=xxx host=localhost port=5432', closed: 0>\n"
     ]
    }
   ],
   "source": [
    "# creating the cursor object\n",
    "cur = conn.cursor()\n",
    "conn.autocommit = True\n",
    "print(conn)"
   ]
  },
  {
   "cell_type": "code",
   "execution_count": 3,
   "id": "5690c6c7",
   "metadata": {},
   "outputs": [],
   "source": [
    "sqlDropDatabase = \"DROP database IF EXISTS test\"\n",
    "cur.execute(sqlDropDatabase)\n",
    "\n",
    "createDatabase = \"CREATE database test\"\n",
    "cur.execute(createDatabase)\n",
    "conn.commit()\n",
    "\n",
    "sqlDropTable = \"DROP table IF EXISTS employee\"\n",
    "cur.execute(sqlDropTable)\n",
    "conn.commit()"
   ]
  },
  {
   "cell_type": "code",
   "execution_count": 4,
   "id": "edc6d6c8",
   "metadata": {},
   "outputs": [],
   "source": [
    "# creating table employee\n",
    "cur.execute('CREATE TABLE employee (id INT PRIMARY KEY, name VARCHAR(10), salary INT, age INT, Designation VARCHAR(20), dept_id INT)')\n",
    "conn.commit()\n",
    "\n",
    "# insert into employee table\n",
    "query = f\"INSERT INTO employee (id, name, salary, age, designation, dept_id) VALUES (1, 'Edith', 100000, 35, 'Software Engineer', 2)\"\n",
    "cur.execute(query)\n",
    "conn.commit()\n",
    "\n",
    "query = f\"INSERT INTO employee (id, name, salary, age, designation, dept_id) VALUES (2, 'tyrion', 120000, 25, 'Programmer', 4)\"\n",
    "cur.execute(query)\n",
    "conn.commit()\n",
    "\n",
    "query = f\"INSERT INTO employee (id, name, salary, age, designation, dept_id) VALUES (3, 'jon', 51000, 37, 'System Engineer', 4)\"\n",
    "cur.execute(query)\n",
    "conn.commit()\n",
    "\n",
    "query = f\"INSERT INTO employee (id, name, salary, age, designation, dept_id) VALUES (4, 'Luis', 70000, 31, 'Developer', 1)\"\n",
    "cur.execute(query)\n",
    "conn.commit()\n",
    "\n",
    "query = f\"INSERT INTO employee (id, name, salary, age, designation, dept_id) VALUES (5, 'Andy', 20000, 41, 'Senior Developer', 2)\"\n",
    "cur.execute(query)\n",
    "conn.commit()\n",
    "\n",
    "query = f\"INSERT INTO employee (id, name, salary, age, designation, dept_id) VALUES (6, 'Luis', 40000, 25, 'Developer', 3)\"\n",
    "cur.execute(query)\n",
    "conn.commit()\n",
    "\n",
    "query = f\"INSERT INTO employee (id, name, salary, age, designation, dept_id) VALUES (7, 'tyrion', 50000, 36, 'Programmer', 2)\"\n",
    "cur.execute(query)\n",
    "conn.commit()\n",
    "\n",
    "query = f\"INSERT INTO employee (id, name, salary, age, designation, dept_id) VALUES (8, 'david', 60000, 42, 'System Engineer', 1)\"\n",
    "cur.execute(query)\n",
    "conn.commit()\n",
    "\n",
    "query = f\"INSERT INTO employee (id, name, salary, age, designation, dept_id) VALUES (9, 'Madhav', 40000, 22, 'Software Engineer', 3)\"\n",
    "cur.execute(query)\n",
    "conn.commit()\n",
    "\n",
    "query = \"INSERT INTO employee (id, name, salary, age, designation, dept_id) VALUES (10, 'Jadav', 70000, 32, 'Software Engineer', null)\"\n",
    "cur.execute(query)\n",
    "conn.commit()\n",
    "\n",
    "query = \"INSERT INTO employee (id, name, salary, age, designation, dept_id) VALUES (11, 'Umesh', 75000, 30, 'Design Engineer', 12)\"\n",
    "cur.execute(query)\n",
    "conn.commit()"
   ]
  },
  {
   "cell_type": "code",
   "execution_count": 5,
   "id": "7319ad7d",
   "metadata": {},
   "outputs": [
    {
     "name": "stdout",
     "output_type": "stream",
     "text": [
      "Query result\n",
      "\n",
      "(1, 'Edith', 100000, 35, 'Software Engineer', 2)\n",
      "(2, 'tyrion', 120000, 25, 'Programmer', 4)\n",
      "(3, 'jon', 51000, 37, 'System Engineer', 4)\n",
      "(4, 'Luis', 70000, 31, 'Developer', 1)\n",
      "(5, 'Andy', 20000, 41, 'Senior Developer', 2)\n",
      "(6, 'Luis', 40000, 25, 'Developer', 3)\n",
      "(7, 'tyrion', 50000, 36, 'Programmer', 2)\n",
      "(8, 'david', 60000, 42, 'System Engineer', 1)\n",
      "(9, 'Madhav', 40000, 22, 'Software Engineer', 3)\n",
      "(10, 'Jadav', 70000, 32, 'Software Engineer', None)\n",
      "(11, 'Umesh', 75000, 30, 'Design Engineer', 12)\n"
     ]
    }
   ],
   "source": [
    "# display employee table\n",
    "cur.execute(\"SELECT * FROM employee\")\n",
    "data = cur.fetchall()\n",
    "\n",
    "print('Query result\\n')\n",
    "for row in data:\n",
    "    print(row)"
   ]
  },
  {
   "cell_type": "code",
   "execution_count": 6,
   "id": "3c7406b0",
   "metadata": {},
   "outputs": [],
   "source": [
    "# creating department table\n",
    "sqlDropTable = \"DROP table IF EXISTS department\"\n",
    "cur.execute(sqlDropTable)\n",
    "conn.commit()\n",
    "\n",
    "cur.execute('CREATE TABLE department (id INT PRIMARY KEY, name VARCHAR(20), manager VARCHAR(20))')\n",
    "conn.commit()\n",
    "\n",
    "query = f\"INSERT INTO department (id, name, manager) VALUES (1, 'Infrastructure', 'Satish'), (2, 'Engineering', 'Harish'), (3, 'Cloud', 'Rajesh'), (4, 'Data science', 'Rajan'), (5, 'Testing', 'Robert'), (16, 'Blockchain', 'Narendra')\"\n",
    "cur.execute(query)\n",
    "conn.commit()"
   ]
  },
  {
   "cell_type": "code",
   "execution_count": 7,
   "id": "731925ea",
   "metadata": {},
   "outputs": [
    {
     "name": "stdout",
     "output_type": "stream",
     "text": [
      "Query result: \n",
      "\n",
      "(1, 'Infrastructure', 'Satish')\n",
      "(2, 'Engineering', 'Harish')\n",
      "(3, 'Cloud', 'Rajesh')\n",
      "(4, 'Data science', 'Rajan')\n",
      "(5, 'Testing', 'Robert')\n",
      "(16, 'Blockchain', 'Narendra')\n"
     ]
    }
   ],
   "source": [
    "# display department table\n",
    "cur.execute('SELECT * FROM department')\n",
    "data = cur.fetchall()\n",
    "\n",
    "print(\"Query result: \\n\")\n",
    "for row in data:\n",
    "    print(row)"
   ]
  },
  {
   "cell_type": "code",
   "execution_count": 8,
   "id": "f6551999",
   "metadata": {},
   "outputs": [
    {
     "name": "stdout",
     "output_type": "stream",
     "text": [
      "SQL INNER JOIN\n",
      "\n",
      "(1, 'Edith', 'Software Engineer', 100000, 2, 'Harish')\n",
      "(2, 'tyrion', 'Programmer', 120000, 4, 'Rajan')\n",
      "(3, 'jon', 'System Engineer', 51000, 4, 'Rajan')\n",
      "(4, 'Luis', 'Developer', 70000, 1, 'Satish')\n",
      "(5, 'Andy', 'Senior Developer', 20000, 2, 'Harish')\n",
      "(6, 'Luis', 'Developer', 40000, 3, 'Rajesh')\n",
      "(7, 'tyrion', 'Programmer', 50000, 2, 'Harish')\n",
      "(8, 'david', 'System Engineer', 60000, 1, 'Satish')\n",
      "(9, 'Madhav', 'Software Engineer', 40000, 3, 'Rajesh')\n"
     ]
    }
   ],
   "source": [
    "print(\"SQL INNER JOIN\\n\")\n",
    "\n",
    "inner_join = \"SELECT a.id, a.name, a.designation, a.salary, a.dept_id, b.manager FROM employee AS a INNER JOIN department AS b ON a.dept_id=b.id\"\n",
    "cur.execute(inner_join)\n",
    "data = cur.fetchall()\n",
    "\n",
    "for row in data:\n",
    "    print(row)"
   ]
  },
  {
   "cell_type": "code",
   "execution_count": 9,
   "id": "1c0e1eef",
   "metadata": {},
   "outputs": [
    {
     "name": "stdout",
     "output_type": "stream",
     "text": [
      "SQL RIGHT OUTER JOIN\n",
      "\n",
      "(1, 'Edith', 'Software Engineer', 100000, 2, 'Harish')\n",
      "(2, 'tyrion', 'Programmer', 120000, 4, 'Rajan')\n",
      "(3, 'jon', 'System Engineer', 51000, 4, 'Rajan')\n",
      "(4, 'Luis', 'Developer', 70000, 1, 'Satish')\n",
      "(5, 'Andy', 'Senior Developer', 20000, 2, 'Harish')\n",
      "(6, 'Luis', 'Developer', 40000, 3, 'Rajesh')\n",
      "(7, 'tyrion', 'Programmer', 50000, 2, 'Harish')\n",
      "(8, 'david', 'System Engineer', 60000, 1, 'Satish')\n",
      "(9, 'Madhav', 'Software Engineer', 40000, 3, 'Rajesh')\n",
      "(None, None, None, None, None, 'Robert')\n",
      "(None, None, None, None, None, 'Narendra')\n"
     ]
    }
   ],
   "source": [
    "print(\"SQL RIGHT OUTER JOIN\\n\")\n",
    "\n",
    "right_join = \"SELECT a.id, a.name, a.designation, a.salary, a.dept_id, b.manager FROM employee AS a RIGHT OUTER JOIN department AS b ON a.dept_id=b.id\"\n",
    "cur.execute(right_join)\n",
    "data = cur.fetchall()\n",
    "\n",
    "for row in data:\n",
    "    print(row)"
   ]
  },
  {
   "cell_type": "code",
   "execution_count": 10,
   "id": "9374474f",
   "metadata": {},
   "outputs": [
    {
     "name": "stdout",
     "output_type": "stream",
     "text": [
      "SQL LEFT OUTER JOIN\n",
      "\n",
      "(1, 'Edith', 'Software Engineer', 100000, 2, 'Harish')\n",
      "(2, 'tyrion', 'Programmer', 120000, 4, 'Rajan')\n",
      "(3, 'jon', 'System Engineer', 51000, 4, 'Rajan')\n",
      "(4, 'Luis', 'Developer', 70000, 1, 'Satish')\n",
      "(5, 'Andy', 'Senior Developer', 20000, 2, 'Harish')\n",
      "(6, 'Luis', 'Developer', 40000, 3, 'Rajesh')\n",
      "(7, 'tyrion', 'Programmer', 50000, 2, 'Harish')\n",
      "(8, 'david', 'System Engineer', 60000, 1, 'Satish')\n",
      "(9, 'Madhav', 'Software Engineer', 40000, 3, 'Rajesh')\n",
      "(10, 'Jadav', 'Software Engineer', 70000, None, None)\n",
      "(11, 'Umesh', 'Design Engineer', 75000, 12, None)\n"
     ]
    }
   ],
   "source": [
    "print(\"SQL LEFT OUTER JOIN\\n\")\n",
    "\n",
    "left_join = \"SELECT a.id, a.name, a.designation, a.salary, a.dept_id, b.manager FROM employee AS a LEFT OUTER JOIN department AS b ON a.dept_id=b.id\"\n",
    "cur.execute(left_join)\n",
    "data = cur.fetchall()\n",
    "\n",
    "for row in data:\n",
    "    print(row)"
   ]
  },
  {
   "cell_type": "code",
   "execution_count": 11,
   "id": "15680e6e",
   "metadata": {},
   "outputs": [
    {
     "name": "stdout",
     "output_type": "stream",
     "text": [
      "SQL FULL OUTER JOIN\n",
      "\n",
      "(1, 'Edith', 'Software Engineer', 100000, 2, 'Harish')\n",
      "(2, 'tyrion', 'Programmer', 120000, 4, 'Rajan')\n",
      "(3, 'jon', 'System Engineer', 51000, 4, 'Rajan')\n",
      "(4, 'Luis', 'Developer', 70000, 1, 'Satish')\n",
      "(5, 'Andy', 'Senior Developer', 20000, 2, 'Harish')\n",
      "(6, 'Luis', 'Developer', 40000, 3, 'Rajesh')\n",
      "(7, 'tyrion', 'Programmer', 50000, 2, 'Harish')\n",
      "(8, 'david', 'System Engineer', 60000, 1, 'Satish')\n",
      "(9, 'Madhav', 'Software Engineer', 40000, 3, 'Rajesh')\n",
      "(10, 'Jadav', 'Software Engineer', 70000, None, None)\n",
      "(11, 'Umesh', 'Design Engineer', 75000, 12, None)\n",
      "(None, None, None, None, None, 'Robert')\n",
      "(None, None, None, None, None, 'Narendra')\n"
     ]
    }
   ],
   "source": [
    "print(\"SQL FULL OUTER JOIN\\n\")\n",
    "\n",
    "full_join = \"SELECT a.id, a.name, a.designation, a.salary, a.dept_id, b.manager FROM employee AS a FULL OUTER JOIN department AS b ON a.dept_id=b.id\"\n",
    "cur.execute(full_join)\n",
    "data = cur.fetchall()\n",
    "\n",
    "for row in data:\n",
    "    print(row)"
   ]
  },
  {
   "cell_type": "code",
   "execution_count": 12,
   "id": "0c48bf63",
   "metadata": {},
   "outputs": [
    {
     "name": "stdout",
     "output_type": "stream",
     "text": [
      "FILTERING DATA Based on IN Clause\n",
      "\n",
      "(1, 'Edith', 'Software Engineer', 100000, 2)\n",
      "(2, 'tyrion', 'Programmer', 120000, 4)\n",
      "(3, 'jon', 'System Engineer', 51000, 4)\n",
      "(4, 'Luis', 'Developer', 70000, 1)\n"
     ]
    }
   ],
   "source": [
    "print(\"FILTERING DATA Based on IN Clause\\n\")\n",
    "\n",
    "in_query = \"SELECT id, name, designation, salary, dept_id FROM employee WHERE id IN (1,2,3,4)\"\n",
    "cur.execute(in_query)\n",
    "data = cur.fetchall()\n",
    "\n",
    "for row in data:\n",
    "    print(row)"
   ]
  },
  {
   "cell_type": "code",
   "execution_count": 13,
   "id": "9c90b010",
   "metadata": {},
   "outputs": [
    {
     "name": "stdout",
     "output_type": "stream",
     "text": [
      "FILTERING DATA Based on LIKE Clause\n",
      "\n",
      "(1, 'Edith', 'Software Engineer', 100000, 2)\n",
      "(3, 'jon', 'System Engineer', 51000, 4)\n",
      "(8, 'david', 'System Engineer', 60000, 1)\n",
      "(9, 'Madhav', 'Software Engineer', 40000, 3)\n",
      "(10, 'Jadav', 'Software Engineer', 70000, None)\n",
      "(11, 'Umesh', 'Design Engineer', 75000, 12)\n"
     ]
    }
   ],
   "source": [
    "print(\"FILTERING DATA Based on LIKE Clause\\n\")\n",
    "\n",
    "like_query = \"SELECT id, name, designation, salary, dept_id FROM employee WHERE designation LIKE '%Engineer'\"\n",
    "cur.execute(like_query)\n",
    "data = cur.fetchall()\n",
    "\n",
    "for row in data:\n",
    "    print(row)"
   ]
  },
  {
   "cell_type": "code",
   "execution_count": 14,
   "id": "1b1759e6",
   "metadata": {},
   "outputs": [
    {
     "name": "stdout",
     "output_type": "stream",
     "text": [
      "FILTERING DATA Based ORDER by ASCENDING\n",
      "\n",
      "(8, 'david', 'System Engineer', 60000, 1)\n",
      "(1, 'Edith', 'Software Engineer', 100000, 2)\n",
      "(10, 'Jadav', 'Software Engineer', 70000, None)\n",
      "(3, 'jon', 'System Engineer', 51000, 4)\n",
      "(9, 'Madhav', 'Software Engineer', 40000, 3)\n",
      "(11, 'Umesh', 'Design Engineer', 75000, 12)\n",
      "\n",
      " FILTERING DATA Based ORDER by DESCENDING\n",
      "\n",
      "(11, 'Umesh', 'Design Engineer', 75000, 12)\n",
      "(9, 'Madhav', 'Software Engineer', 40000, 3)\n",
      "(3, 'jon', 'System Engineer', 51000, 4)\n",
      "(10, 'Jadav', 'Software Engineer', 70000, None)\n",
      "(1, 'Edith', 'Software Engineer', 100000, 2)\n",
      "(8, 'david', 'System Engineer', 60000, 1)\n"
     ]
    }
   ],
   "source": [
    "print(\"FILTERING DATA Based ORDER by ASCENDING\\n\")\n",
    "\n",
    "asc_query = \"SELECT id, name, designation, salary, dept_id FROM employee WHERE designation LIKE '%Engineer' ORDER BY name ASC\"\n",
    "cur.execute(asc_query)\n",
    "data = cur.fetchall()\n",
    "\n",
    "for row in data:\n",
    "    print(row)\n",
    "\n",
    "print(\"\\n FILTERING DATA Based ORDER by DESCENDING\\n\")\n",
    "\n",
    "desc_query = \"SELECT id, name, designation, salary, dept_id FROM employee WHERE designation LIKE '%Engineer' ORDER BY name DESC\"\n",
    "cur.execute(desc_query)\n",
    "data = cur.fetchall()\n",
    "\n",
    "for row in data:\n",
    "    print(row)"
   ]
  },
  {
   "cell_type": "code",
   "execution_count": 15,
   "id": "8d0e0373",
   "metadata": {},
   "outputs": [
    {
     "name": "stdout",
     "output_type": "stream",
     "text": [
      "FILTERING DATA Based on OR\n",
      "\n",
      "(3, 'jon', 'System Engineer', 51000, 4)\n",
      "(5, 'Andy', 'Senior Developer', 20000, 2)\n",
      "(7, 'tyrion', 'Programmer', 50000, 2)\n",
      "(8, 'david', 'System Engineer', 60000, 1)\n",
      "(9, 'Madhav', 'Software Engineer', 40000, 3)\n"
     ]
    }
   ],
   "source": [
    "print(\"FILTERING DATA Based on OR\\n\")\n",
    "\n",
    "or_query = \"SELECT id, name, designation, salary, dept_id FROM employee WHERE age < 25 OR age > 35\"\n",
    "cur.execute(or_query)\n",
    "data = cur.fetchall()\n",
    "\n",
    "for row in data:\n",
    "    print(row)"
   ]
  },
  {
   "cell_type": "code",
   "execution_count": 16,
   "id": "471cef54",
   "metadata": {},
   "outputs": [
    {
     "name": "stdout",
     "output_type": "stream",
     "text": [
      "FILTERING DATA Based on AND\n",
      "\n",
      "(1, 'Edith', 'Software Engineer', 100000, 2)\n",
      "(4, 'Luis', 'Developer', 70000, 1)\n",
      "(10, 'Jadav', 'Software Engineer', 70000, None)\n",
      "(11, 'Umesh', 'Design Engineer', 75000, 12)\n"
     ]
    }
   ],
   "source": [
    "print(\"FILTERING DATA Based on AND\\n\")\n",
    "\n",
    "and_query = \"SELECT id, name, designation, salary, dept_id FROM employee WHERE age > 25 AND salary > 65000\"\n",
    "cur.execute(and_query)\n",
    "data = cur.fetchall()\n",
    "\n",
    "for row in data:\n",
    "    print(row)"
   ]
  },
  {
   "cell_type": "code",
   "execution_count": 17,
   "id": "78a54776",
   "metadata": {},
   "outputs": [
    {
     "name": "stdout",
     "output_type": "stream",
     "text": [
      "FILTERING DATA Based on BETWEEN\n",
      "\n",
      "(3, 'jon', 'System Engineer', 51000, 4)\n",
      "(4, 'Luis', 'Developer', 70000, 1)\n",
      "(7, 'tyrion', 'Programmer', 50000, 2)\n",
      "(8, 'david', 'System Engineer', 60000, 1)\n",
      "(10, 'Jadav', 'Software Engineer', 70000, None)\n",
      "(11, 'Umesh', 'Design Engineer', 75000, 12)\n"
     ]
    }
   ],
   "source": [
    "print(\"FILTERING DATA Based on BETWEEN\\n\")\n",
    "\n",
    "between_query = \"SELECT id, name, designation, salary, dept_id FROM employee WHERE salary BETWEEN 50000 AND 85000\"\n",
    "cur.execute(between_query)\n",
    "data = cur.fetchall()\n",
    "\n",
    "for row in data:\n",
    "    print(row)\n"
   ]
  },
  {
   "cell_type": "code",
   "execution_count": 18,
   "id": "cc0c58f1",
   "metadata": {},
   "outputs": [
    {
     "name": "stdout",
     "output_type": "stream",
     "text": [
      "FILTERING DATA Based on NOT\n",
      "\n",
      "(1, 'Edith', 'Software Engineer', 100000, 2)\n",
      "(2, 'tyrion', 'Programmer', 120000, 4)\n",
      "(5, 'Andy', 'Senior Developer', 20000, 2)\n",
      "\n",
      " FILTERING DATA Based on NOT and <> (NOT EQUAL)\n",
      "\n",
      "(1, 'Edith', 'Software Engineer', 100000, 2)\n",
      "(2, 'tyrion', 'Programmer', 120000, 4)\n"
     ]
    }
   ],
   "source": [
    "print(\"FILTERING DATA Based on NOT\\n\")\n",
    "\n",
    "not_query = \"SELECT id, name, designation, salary, dept_id FROM employee WHERE salary NOT BETWEEN 40000 and 85000\"\n",
    "cur.execute(not_query)\n",
    "data = cur.fetchall()\n",
    "\n",
    "for row in data:\n",
    "    print(row)\n",
    "\n",
    "print(\"\\n FILTERING DATA Based on NOT and <> (NOT EQUAL)\\n\")\n",
    "\n",
    "not_query = \"SELECT id, name, designation, salary, dept_id FROM employee WHERE (salary NOT BETWEEN 40000 AND 85000) AND (salary <> 20000)\"\n",
    "cur.execute(not_query)\n",
    "data = cur.fetchall()\n",
    "\n",
    "for row in data:\n",
    "    print(row)"
   ]
  },
  {
   "cell_type": "code",
   "execution_count": 19,
   "id": "215460f1",
   "metadata": {},
   "outputs": [
    {
     "name": "stdout",
     "output_type": "stream",
     "text": [
      "FILTERING DATA Based on LIMIT\n",
      "\n",
      "(2, 'tyrion', 'Programmer', 120000, 4)\n",
      "(1, 'Edith', 'Software Engineer', 100000, 2)\n"
     ]
    }
   ],
   "source": [
    "print(\"FILTERING DATA Based on LIMIT\\n\")\n",
    "\n",
    "limit_query = \"SELECT id, name, designation, salary, dept_id FROM employee WHERE salary NOT BETWEEN 40000 and 85000 ORDER BY salary DESC LIMIT 2\"\n",
    "cur.execute(limit_query)\n",
    "data = cur.fetchall()\n",
    "\n",
    "for row in data:\n",
    "    print(row)"
   ]
  },
  {
   "cell_type": "code",
   "execution_count": 20,
   "id": "087bf097",
   "metadata": {},
   "outputs": [
    {
     "name": "stdout",
     "output_type": "stream",
     "text": [
      "FILTERING DATA Based on LIMIT, OFFSET\n",
      "\n",
      "(11, 'Umesh', 'Design Engineer', 75000, 12)\n",
      "\n",
      " FILTERING DATA Based on OFFSET\n",
      " \n",
      "(7, 'tyrion', 'Programmer', 50000, 2)\n",
      "(6, 'Luis', 'Developer', 40000, 3)\n",
      "(9, 'Madhav', 'Software Engineer', 40000, 3)\n",
      "(5, 'Andy', 'Senior Developer', 20000, 2)\n",
      "\n",
      " FILTERING DATA Based on OFFSET, FETCH NEXT\n",
      "\n",
      "(1, 'Edith', 'Software Engineer', 100000, 2)\n",
      "(11, 'Umesh', 'Design Engineer', 75000, 12)\n"
     ]
    }
   ],
   "source": [
    "print(\"FILTERING DATA Based on LIMIT, OFFSET\\n\")\n",
    "\n",
    "offset_query = \"SELECT id, name, designation, salary, dept_id FROM employee ORDER BY salary DESC LIMIT 1 OFFSET 2\"\n",
    "cur.execute(offset_query)\n",
    "\n",
    "for row in cur.fetchall():\n",
    "    print(row)\n",
    "\n",
    "print(\"\\n FILTERING DATA Based on OFFSET\\n \")\n",
    "\n",
    "offset_query = \"SELECT id, name, designation, salary, dept_id FROM employee ORDER BY salary DESC OFFSET 7 ROWS\"\n",
    "cur.execute(offset_query)\n",
    "\n",
    "for row in cur.fetchall():\n",
    "    print(row)\n",
    "\n",
    "print(\"\\n FILTERING DATA Based on OFFSET, FETCH NEXT\\n\")\n",
    "\n",
    "offset_fetch_query = \"SELECT id, name, designation, salary, dept_id FROM employee ORDER BY salary DESC OFFSET 1 ROWS FETCH NEXT 2 ROWS ONLY\"\n",
    "cur.execute(offset_fetch_query)\n",
    "\n",
    "for row in cur.fetchall():\n",
    "    print(row)"
   ]
  },
  {
   "cell_type": "code",
   "execution_count": 21,
   "id": "0fc83b3c",
   "metadata": {},
   "outputs": [
    {
     "name": "stdout",
     "output_type": "stream",
     "text": [
      "FILTERING DATA Based on GROUPBY MIN, MAX, SUM, COUNT, AVG\n",
      "\n",
      "minSal  maxSal sumSal count avgSal designation\n",
      "----------------------------------------------------------------------\n",
      "(40000, 100000, 210000, 3, 70000, 'Software Engineer')\n",
      "(51000, 60000, 111000, 2, 55500, 'System Engineer')\n",
      "(50000, 120000, 170000, 2, 85000, 'Programmer')\n",
      "(40000, 70000, 110000, 2, 55000, 'Developer')\n",
      "(20000, 20000, 20000, 1, 20000, 'Senior Developer')\n",
      "(75000, 75000, 75000, 1, 75000, 'Design Engineer')\n"
     ]
    }
   ],
   "source": [
    "print(\"FILTERING DATA Based on GROUPBY MIN, MAX, SUM, COUNT, AVG\\n\")\n",
    "\n",
    "query = \"SELECT MIN(salary), MAX(salary), SUM(salary), COUNT(salary), CAST(AVG(salary) as INT), designation FROM employee GROUP BY designation\"\n",
    "cur.execute(query)\n",
    "data = cur.fetchall()\n",
    "\n",
    "print(\"minSal  maxSal sumSal count avgSal designation\")\n",
    "print(\"-\"*70)\n",
    "for row in data:\n",
    "    print(row)"
   ]
  },
  {
   "cell_type": "code",
   "execution_count": 22,
   "id": "b33bb2fa",
   "metadata": {},
   "outputs": [
    {
     "name": "stdout",
     "output_type": "stream",
     "text": [
      "FILTERING DATA Based on HAVING CLAUSE\n",
      "\n",
      "designation\t avgSalary\n",
      "----------------------------------------\n",
      "('Software Engineer', 70000)\n",
      "('System Engineer', 55500)\n",
      "('Programmer', 85000)\n",
      "('Developer', 55000)\n",
      "('Senior Developer', 20000)\n",
      "('Design Engineer', 75000)\n"
     ]
    }
   ],
   "source": [
    "print(\"FILTERING DATA Based on HAVING CLAUSE\\n\")\n",
    "\n",
    "having_query = \"SELECT designation, CAST(AVG(salary) as INT) FROM employee GROUP BY designation HAVING AVG(salary) > 5000\"\n",
    "cur.execute(having_query)\n",
    "\n",
    "print(\"designation\\t avgSalary\")\n",
    "print(\"-\"*40)\n",
    "for row in cur.fetchall():\n",
    "    print(row)"
   ]
  },
  {
   "cell_type": "code",
   "execution_count": 23,
   "id": "1ed45018",
   "metadata": {},
   "outputs": [
    {
     "name": "stdout",
     "output_type": "stream",
     "text": [
      "FILTERING DATA using DISTINCT\n",
      "\n",
      "('Software Engineer',)\n",
      "('System Engineer',)\n",
      "('Programmer',)\n",
      "('Developer',)\n",
      "('Senior Developer',)\n",
      "('Design Engineer',)\n"
     ]
    }
   ],
   "source": [
    "print(\"FILTERING DATA using DISTINCT\\n\")\n",
    "\n",
    "distinct_query = \"SELECT DISTINCT designation FROM employee\"\n",
    "cur.execute(distinct_query)\n",
    "\n",
    "for row in cur.fetchall():\n",
    "    print(row)"
   ]
  },
  {
   "cell_type": "code",
   "execution_count": 24,
   "id": "da6a986f",
   "metadata": {},
   "outputs": [
    {
     "name": "stdout",
     "output_type": "stream",
     "text": [
      "FILTERING DATA Based on WHERE Clause\n",
      "\n",
      "()\n"
     ]
    }
   ],
   "source": [
    "print(\"FILTERING DATA Based on WHERE Clause\\n\")\n",
    "\n",
    "where_query = \"SELECT  FROM employee WHERE id=3\"\n",
    "cur.execute(where_query)\n",
    "\n",
    "for row in cur.fetchall():\n",
    "    print(row)"
   ]
  },
  {
   "cell_type": "code",
   "execution_count": 25,
   "id": "ccff6686",
   "metadata": {},
   "outputs": [
    {
     "name": "stdout",
     "output_type": "stream",
     "text": [
      "UPPER(name) LOWER(name) LENGTH(name)\n",
      "--------------------------------------------------\n",
      "('EDITH', 'edith', 5)\n",
      "('TYRION', 'tyrion', 6)\n",
      "('JON', 'jon', 3)\n",
      "('LUIS', 'luis', 4)\n",
      "('ANDY', 'andy', 4)\n",
      "('LUIS', 'luis', 4)\n",
      "('TYRION', 'tyrion', 6)\n",
      "('DAVID', 'david', 5)\n",
      "('MADHAV', 'madhav', 6)\n",
      "('JADAV', 'jadav', 5)\n",
      "('UMESH', 'umesh', 5)\n"
     ]
    }
   ],
   "source": [
    "# Use LOWER, UPPER, LENGTH, CONCAT\n",
    "\n",
    "query = \"SELECT UPPER(name), LOWER(name), LENGTH(name) as length_name FROM employee\"\n",
    "cur.execute(query)\n",
    "\n",
    "print(\"UPPER(name) LOWER(name) LENGTH(name)\")\n",
    "print(\"-\"*50)\n",
    "for row in cur.fetchall():\n",
    "    print(row)"
   ]
  },
  {
   "cell_type": "code",
   "execution_count": 26,
   "id": "d997fdd5",
   "metadata": {},
   "outputs": [
    {
     "name": "stdout",
     "output_type": "stream",
     "text": [
      "FLOOR(AVG(sal/3)) CEIL(AVG(sal/3)) ROUND(AVG(sal/3), 2)\t  NOW()\n",
      "--------------------------------------------------------------------------------\n",
      "(Decimal('21090'), Decimal('21091'), Decimal('21090.64'))\n"
     ]
    }
   ],
   "source": [
    "# FLOOR, CEIL, ROUND, NOW\n",
    "\n",
    "query = \"SELECT FLOOR(AVG(salary/3)), CEIL(AVG(salary/3)), ROUND(AVG(salary/3), 2) FROM employee\"\n",
    "cur.execute(query)\n",
    "\n",
    "print(\"FLOOR(AVG(sal/3)) CEIL(AVG(sal/3)) ROUND(AVG(sal/3), 2)\\t  NOW()\")\n",
    "print(\"-\"*80)\n",
    "for row in cur.fetchall():\n",
    "    print(row)"
   ]
  },
  {
   "cell_type": "code",
   "execution_count": 27,
   "id": "8c216d8a",
   "metadata": {},
   "outputs": [
    {
     "name": "stdout",
     "output_type": "stream",
     "text": [
      "CONCATENATE two columns\n",
      "\n",
      "('Umesh->Design Engineer',)\n",
      "('tyrion->Programmer',)\n"
     ]
    }
   ],
   "source": [
    "# CONCAT\n",
    "query = \"SELECT CONCAT(name, '->', designation) FROM employee ORDER BY name DESC LIMIT 2\"\n",
    "cur.execute(query)\n",
    "\n",
    "print(\"CONCATENATE two columns\\n\")\n",
    "for row in cur.fetchall():\n",
    "    print(row)"
   ]
  },
  {
   "cell_type": "code",
   "execution_count": 28,
   "id": "744a0bd0",
   "metadata": {},
   "outputs": [
    {
     "name": "stdout",
     "output_type": "stream",
     "text": [
      "UNION operation in SQL\n",
      "\n",
      "(7, 'tyrion', 'Programmer', 50000, 2)\n",
      "(11, 'Umesh', 'Design Engineer', 75000, 12)\n",
      "(3, 'jon', 'System Engineer', 51000, 4)\n",
      "(1, 'Edith', 'Software Engineer', 100000, 2)\n",
      "(10, 'Jadav', 'Software Engineer', 70000, None)\n",
      "(8, 'david', 'System Engineer', 60000, 1)\n",
      "(4, 'Luis', 'Developer', 70000, 1)\n",
      "(5, 'Andy', 'Senior Developer', 20000, 2)\n"
     ]
    }
   ],
   "source": [
    "# UNION it combines results of query1+query2 but all returned rows are distinct\n",
    "\n",
    "print(\"UNION operation in SQL\\n\")\n",
    "query = \"SELECT id, name, designation, salary, dept_id FROM employee WHERE age > 30 UNION SELECT id, name, designation, salary, dept_id FROM employee WHERE age > 25\"\n",
    "cur.execute(query)\n",
    "\n",
    "for row in cur.fetchall():\n",
    "    print(row)"
   ]
  },
  {
   "cell_type": "code",
   "execution_count": 29,
   "id": "9375f2f2",
   "metadata": {},
   "outputs": [
    {
     "name": "stdout",
     "output_type": "stream",
     "text": [
      "UNION ALL operation in SQL\n",
      "\n",
      "(1, 'Edith', 'Software Engineer', 100000, 2)\n",
      "(3, 'jon', 'System Engineer', 51000, 4)\n",
      "(4, 'Luis', 'Developer', 70000, 1)\n",
      "(5, 'Andy', 'Senior Developer', 20000, 2)\n",
      "(7, 'tyrion', 'Programmer', 50000, 2)\n",
      "(8, 'david', 'System Engineer', 60000, 1)\n",
      "(10, 'Jadav', 'Software Engineer', 70000, None)\n",
      "(1, 'Edith', 'Software Engineer', 100000, 2)\n",
      "(3, 'jon', 'System Engineer', 51000, 4)\n",
      "(4, 'Luis', 'Developer', 70000, 1)\n",
      "(5, 'Andy', 'Senior Developer', 20000, 2)\n",
      "(7, 'tyrion', 'Programmer', 50000, 2)\n",
      "(8, 'david', 'System Engineer', 60000, 1)\n",
      "(10, 'Jadav', 'Software Engineer', 70000, None)\n",
      "(11, 'Umesh', 'Design Engineer', 75000, 12)\n"
     ]
    }
   ],
   "source": [
    "# UNION ALL it combines results of query1+query2 but returned rows contains duplicates\n",
    "\n",
    "print(\"UNION ALL operation in SQL\\n\")\n",
    "query = \"SELECT id, name, designation, salary, dept_id FROM employee WHERE age > 30 UNION ALL SELECT id, name, designation, salary, dept_id FROM employee WHERE age > 25\"\n",
    "cur.execute(query)\n",
    "\n",
    "for row in cur.fetchall():\n",
    "    print(row)"
   ]
  },
  {
   "cell_type": "code",
   "execution_count": 30,
   "id": "7ddaf43a",
   "metadata": {},
   "outputs": [
    {
     "name": "stdout",
     "output_type": "stream",
     "text": [
      "INTESECT operation in SQL\n",
      "\n",
      "(7, 'tyrion', 'Programmer', 50000, 2)\n",
      "(10, 'Jadav', 'Software Engineer', 70000, None)\n",
      "(8, 'david', 'System Engineer', 60000, 1)\n",
      "(4, 'Luis', 'Developer', 70000, 1)\n",
      "(3, 'jon', 'System Engineer', 51000, 4)\n",
      "(1, 'Edith', 'Software Engineer', 100000, 2)\n",
      "(5, 'Andy', 'Senior Developer', 20000, 2)\n"
     ]
    }
   ],
   "source": [
    "# INTERSECT returns rows belongs to both result set\n",
    "\n",
    "print(\"INTESECT operation in SQL\\n\")\n",
    "query = \"SELECT id, name, designation, salary, dept_id FROM employee WHERE age > 30 INTERSECT SELECT id, name, designation, salary, dept_id FROM employee WHERE age > 25\"\n",
    "cur.execute(query)\n",
    "\n",
    "for row in cur.fetchall():\n",
    "    print(row)"
   ]
  },
  {
   "cell_type": "code",
   "execution_count": 31,
   "id": "bdb9c443",
   "metadata": {},
   "outputs": [
    {
     "name": "stdout",
     "output_type": "stream",
     "text": [
      "EXCEPT operation in SQL\n",
      "\n",
      "(2, 'tyrion', 'Programmer', 120000, 4)\n",
      "(11, 'Umesh', 'Design Engineer', 75000, 12)\n",
      "(9, 'Madhav', 'Software Engineer', 40000, 3)\n",
      "(6, 'Luis', 'Developer', 40000, 3)\n"
     ]
    }
   ],
   "source": [
    "# EXCEPT returns only the rows that appear in the first result set but do not appear in the second result set\n",
    "\n",
    "print(\"EXCEPT operation in SQL\\n\")\n",
    "query = \"SELECT id, name, designation, salary, dept_id FROM employee WHERE age > 20 EXCEPT SELECT id, name, designation, salary, dept_id FROM employee WHERE age > 30\"\n",
    "cur.execute(query)\n",
    "\n",
    "for row in cur.fetchall():\n",
    "    print(row)"
   ]
  },
  {
   "cell_type": "code",
   "execution_count": 32,
   "id": "0edfd1c4",
   "metadata": {},
   "outputs": [
    {
     "name": "stdout",
     "output_type": "stream",
     "text": [
      "SQL EXCLUSIVE RIGHT/RIGHT OUTER JOIN\n",
      "\n",
      "(None, None, None, None, None, None, 5, 'Testing', 'Robert')\n",
      "(None, None, None, None, None, None, 16, 'Blockchain', 'Narendra')\n"
     ]
    }
   ],
   "source": [
    "# Records from Right table with no matched records in left table\n",
    "\n",
    "print(\"SQL EXCLUSIVE RIGHT/RIGHT OUTER JOIN\\n\")\n",
    "exclusive_right_join = \"SELECT * FROM employee AS a RIGHT OUTER JOIN department AS b ON a.dept_id=b.id WHERE a.dept_id is NULL\"\n",
    "cur.execute(exclusive_right_join)\n",
    "data = cur.fetchall()\n",
    "\n",
    "for row in data:\n",
    "    print(row)"
   ]
  },
  {
   "cell_type": "code",
   "execution_count": 33,
   "id": "cae41966",
   "metadata": {},
   "outputs": [
    {
     "name": "stdout",
     "output_type": "stream",
     "text": [
      "SQL EXCLUSIVE LEFT/LEFT OUTER JOIN\n",
      "\n",
      "(10, 'Jadav', 'Software Engineer', 70000, None, None, None)\n",
      "(11, 'Umesh', 'Design Engineer', 75000, 12, None, None)\n"
     ]
    }
   ],
   "source": [
    "# Records from left table with no matched records in right table\n",
    "\n",
    "print(\"SQL EXCLUSIVE LEFT/LEFT OUTER JOIN\\n\")\n",
    "exclusive_left_join = \"SELECT a.id, a.name, a.designation, a.salary, a.dept_id, b.name, b.manager FROM employee AS a LEFT OUTER JOIN department AS b ON a.dept_id=b.id WHERE b.id is NULL\"\n",
    "cur.execute(exclusive_left_join)\n",
    "data = cur.fetchall()\n",
    "\n",
    "for row in data:\n",
    "    print(row)"
   ]
  },
  {
   "cell_type": "code",
   "execution_count": 34,
   "id": "b761422b",
   "metadata": {},
   "outputs": [
    {
     "name": "stdout",
     "output_type": "stream",
     "text": [
      "SQL EXCLUSIVE FULL OUTER JOIN\n",
      "\n",
      "(10, 'Jadav', 'Software Engineer', 70000, None, None, None)\n",
      "(11, 'Umesh', 'Design Engineer', 75000, 12, None, None)\n",
      "(None, None, None, None, None, 'Testing', 'Robert')\n",
      "(None, None, None, None, None, 'Blockchain', 'Narendra')\n"
     ]
    }
   ],
   "source": [
    "# Records from \n",
    "# a. left table with no matched records in right table \n",
    "# b. right table with no matched records in left table\n",
    "\n",
    "print(\"SQL EXCLUSIVE FULL OUTER JOIN\\n\")\n",
    "exclusive_full_outer_join = \"SELECT a.id, a.name, a.designation, a.salary, a.dept_id, b.name, b.manager FROM employee AS a FULL OUTER JOIN department AS b ON a.dept_id=b.id WHERE a.dept_id is NULL OR b.id is NULL\"\n",
    "cur.execute(exclusive_full_outer_join)\n",
    "data = cur.fetchall()\n",
    "\n",
    "for row in data:\n",
    "    print(row)"
   ]
  },
  {
   "cell_type": "code",
   "execution_count": 35,
   "id": "ac207822",
   "metadata": {},
   "outputs": [
    {
     "name": "stdout",
     "output_type": "stream",
     "text": [
      "Query result\n",
      "\n",
      "(10, 'Jadav', 'Software Engineer', 70000, None)\n"
     ]
    }
   ],
   "source": [
    "# IS NULL\n",
    "cur.execute(\"SELECT id, name, designation, salary, dept_id FROM employee WHERE dept_id IS NULL\")\n",
    "data = cur.fetchall()\n",
    "\n",
    "print('Query result\\n')\n",
    "for row in data:\n",
    "    print(row)"
   ]
  },
  {
   "cell_type": "code",
   "execution_count": 36,
   "id": "7ff18d0c",
   "metadata": {},
   "outputs": [
    {
     "name": "stdout",
     "output_type": "stream",
     "text": [
      "Query result\n",
      "\n",
      "(1, 'Edith', 'Software Engineer', 100000, 2)\n",
      "(2, 'tyrion', 'Programmer', 120000, 4)\n",
      "(3, 'jon', 'System Engineer', 51000, 4)\n",
      "(4, 'Luis', 'Developer', 70000, 1)\n",
      "(5, 'Andy', 'Senior Developer', 20000, 2)\n",
      "(6, 'Luis', 'Developer', 40000, 3)\n",
      "(7, 'tyrion', 'Programmer', 50000, 2)\n",
      "(8, 'david', 'System Engineer', 60000, 1)\n",
      "(9, 'Madhav', 'Software Engineer', 40000, 3)\n",
      "(11, 'Umesh', 'Design Engineer', 75000, 12)\n"
     ]
    }
   ],
   "source": [
    "# IS NOT NULL\n",
    "cur.execute(\"SELECT id, name, designation, salary, dept_id FROM employee WHERE dept_id IS NOT NULL\")\n",
    "data = cur.fetchall()\n",
    "\n",
    "print('Query result\\n')\n",
    "for row in data:\n",
    "    print(row)"
   ]
  },
  {
   "cell_type": "code",
   "execution_count": 37,
   "id": "96ed1621",
   "metadata": {},
   "outputs": [
    {
     "name": "stdout",
     "output_type": "stream",
     "text": [
      "Subquery using ALL\n",
      "\n",
      "(1, 'Edith', 'Software Engineer', 100000, 2)\n",
      "(5, 'Andy', 'Senior Developer', 20000, 2)\n",
      "(7, 'tyrion', 'Programmer', 50000, 2)\n",
      "\n",
      " Subquery using ANY\n",
      "\n",
      "(1, 'Edith', 'Software Engineer', 100000, 2)\n",
      "(5, 'Andy', 'Senior Developer', 20000, 2)\n",
      "(7, 'tyrion', 'Programmer', 50000, 2)\n"
     ]
    }
   ],
   "source": [
    "# subqueries -- ALL, ANY, =\n",
    "# select all employees who has manager Harish\n",
    "\n",
    "cur.execute(\"SELECT id, name, designation, salary, dept_id FROM employee WHERE dept_id = ALL(SELECT id FROM department WHERE manager='Harish')\")\n",
    "data = cur.fetchall()\n",
    "\n",
    "print('Subquery using ALL\\n')\n",
    "for row in data:\n",
    "    print(row)\n",
    "    \n",
    "cur.execute(\"SELECT id, name, designation, salary, dept_id FROM employee WHERE dept_id = ANY(SELECT id FROM department WHERE manager='Harish')\")\n",
    "data = cur.fetchall()\n",
    "\n",
    "print('\\n Subquery using ANY\\n')\n",
    "for row in data:\n",
    "    print(row)"
   ]
  },
  {
   "cell_type": "code",
   "execution_count": 38,
   "id": "81868c4b",
   "metadata": {},
   "outputs": [
    {
     "name": "stdout",
     "output_type": "stream",
     "text": [
      "Subquery using IN, ALL\n",
      "\n",
      "(1, 'Edith', 'Software Engineer', 100000, 2)\n",
      "(2, 'tyrion', 'Programmer', 120000, 4)\n",
      "(4, 'Luis', 'Developer', 70000, 1)\n",
      "(8, 'david', 'System Engineer', 60000, 1)\n",
      "(10, 'Jadav', 'Software Engineer', 70000, None)\n",
      "(11, 'Umesh', 'Design Engineer', 75000, 12)\n",
      "\n",
      " Subquery using IN, ANY\n",
      "\n",
      "(1, 'Edith', 'Software Engineer', 100000, 2)\n",
      "(2, 'tyrion', 'Programmer', 120000, 4)\n",
      "(4, 'Luis', 'Developer', 70000, 1)\n",
      "(8, 'david', 'System Engineer', 60000, 1)\n",
      "(10, 'Jadav', 'Software Engineer', 70000, None)\n",
      "(11, 'Umesh', 'Design Engineer', 75000, 12)\n"
     ]
    }
   ],
   "source": [
    "# subqueries -- IN, >, ALL, ANY\n",
    "# select all employees who have salary greather than the average salary of department headed by Harish\n",
    "\n",
    "cur.execute(\"SELECT id, name, designation, salary, dept_id FROM employee WHERE salary > ALL(SELECT AVG(salary) FROM employee WHERE dept_id IN (SELECT id FROM department WHERE manager='Harish'))\")\n",
    "data = cur.fetchall()\n",
    "\n",
    "print('Subquery using IN, ALL\\n')\n",
    "for row in data:\n",
    "    print(row)\n",
    "    \n",
    "cur.execute(\"SELECT id, name, designation, salary, dept_id FROM employee WHERE salary > ANY(SELECT AVG(salary) FROM employee WHERE dept_id IN (SELECT id FROM department WHERE manager='Harish'))\")\n",
    "data = cur.fetchall()\n",
    "\n",
    "print('\\n Subquery using IN, ANY\\n')\n",
    "for row in data:\n",
    "    print(row)"
   ]
  },
  {
   "cell_type": "code",
   "execution_count": 39,
   "id": "7a33a178",
   "metadata": {},
   "outputs": [
    {
     "name": "stdout",
     "output_type": "stream",
     "text": [
      "Subquery using IN, ALL\n",
      "\n",
      "(3, 'jon', 'System Engineer', 51000, 4)\n",
      "(5, 'Andy', 'Senior Developer', 20000, 2)\n",
      "(6, 'Luis', 'Developer', 40000, 3)\n",
      "(7, 'tyrion', 'Programmer', 50000, 2)\n",
      "(9, 'Madhav', 'Software Engineer', 40000, 3)\n",
      "\n",
      " Subquery using IN, ANY\n",
      "\n",
      "(3, 'jon', 'System Engineer', 51000, 4)\n",
      "(5, 'Andy', 'Senior Developer', 20000, 2)\n",
      "(6, 'Luis', 'Developer', 40000, 3)\n",
      "(7, 'tyrion', 'Programmer', 50000, 2)\n",
      "(9, 'Madhav', 'Software Engineer', 40000, 3)\n"
     ]
    }
   ],
   "source": [
    "# subqueries -- IN, <, ALL, ANY\n",
    "# select all employees who have salary less than the average salary of department headed by Harish\n",
    "\n",
    "cur.execute(\"SELECT id, name, designation, salary, dept_id FROM employee WHERE salary < ALL(SELECT AVG(salary) FROM employee WHERE dept_id IN (SELECT id FROM department WHERE manager='Harish'))\")\n",
    "data = cur.fetchall()\n",
    "\n",
    "print('Subquery using IN, ALL\\n')\n",
    "for row in data:\n",
    "    print(row)\n",
    "    \n",
    "cur.execute(\"SELECT id, name, designation, salary, dept_id FROM employee WHERE salary < ANY(SELECT AVG(salary) FROM employee WHERE dept_id IN (SELECT id FROM department WHERE manager='Harish'))\")\n",
    "data = cur.fetchall()\n",
    "\n",
    "print('\\n Subquery using IN, ANY\\n')\n",
    "for row in data:\n",
    "    print(row)"
   ]
  },
  {
   "cell_type": "code",
   "execution_count": 40,
   "id": "a79392ba",
   "metadata": {},
   "outputs": [
    {
     "name": "stdout",
     "output_type": "stream",
     "text": [
      "Subquery using NOT EXISTS\n",
      "\n",
      "('Jadav', 70000, None)\n",
      "('Umesh', 75000, 12)\n"
     ]
    }
   ],
   "source": [
    "# subqueries -- NOT EXISTS\n",
    "\n",
    "cur.execute(\"SELECT name, salary, dept_id FROM employee WHERE NOT EXISTS (SELECT id FROM department WHERE employee.dept_id=department.id)\")\n",
    "data = cur.fetchall()\n",
    "\n",
    "print('Subquery using NOT EXISTS\\n')\n",
    "for row in data:\n",
    "    print(row)"
   ]
  },
  {
   "cell_type": "code",
   "execution_count": 41,
   "id": "43e2f8bc",
   "metadata": {},
   "outputs": [
    {
     "name": "stdout",
     "output_type": "stream",
     "text": [
      "Subquery using EXISTS\n",
      "\n",
      "(2, 'Engineering', 'Harish')\n",
      "(3, 'Cloud', 'Rajesh')\n"
     ]
    }
   ],
   "source": [
    "# subqueries -- EXISTS\n",
    "\n",
    "cur.execute(\"SELECT id, name, manager FROM department WHERE EXISTS (SELECT dept_id FROM employee WHERE employee.dept_id = department.id AND salary < 50000)\")\n",
    "data = cur.fetchall()\n",
    "\n",
    "print('Subquery using EXISTS\\n')\n",
    "for row in data:\n",
    "    print(row)"
   ]
  },
  {
   "cell_type": "code",
   "execution_count": 42,
   "id": "f8339fd4",
   "metadata": {},
   "outputs": [
    {
     "name": "stdout",
     "output_type": "stream",
     "text": [
      "Subquery using IN\n",
      "\n",
      "(1, 'Edith', 'Software Engineer', 100000, 2)\n",
      "(5, 'Andy', 'Senior Developer', 20000, 2)\n",
      "(7, 'tyrion', 'Programmer', 50000, 2)\n"
     ]
    }
   ],
   "source": [
    "# subqueries -- IN\n",
    "# select all employees who belongs to Engineering department\n",
    "\n",
    "cur.execute(\"SELECT id, name, designation, salary, dept_id FROM employee WHERE dept_id IN (SELECT id FROM department WHERE name='Engineering')\")\n",
    "data = cur.fetchall()\n",
    "\n",
    "print('Subquery using IN\\n')\n",
    "for row in data:\n",
    "    print(row)"
   ]
  },
  {
   "cell_type": "code",
   "execution_count": 43,
   "id": "2171531f",
   "metadata": {},
   "outputs": [
    {
     "name": "stdout",
     "output_type": "stream",
     "text": [
      "Subquery using NOT IN\n",
      "\n",
      "(2, 'tyrion', 'Programmer', 120000, 4)\n",
      "(3, 'jon', 'System Engineer', 51000, 4)\n",
      "(4, 'Luis', 'Developer', 70000, 1)\n",
      "(6, 'Luis', 'Developer', 40000, 3)\n",
      "(8, 'david', 'System Engineer', 60000, 1)\n",
      "(9, 'Madhav', 'Software Engineer', 40000, 3)\n",
      "(11, 'Umesh', 'Design Engineer', 75000, 12)\n"
     ]
    }
   ],
   "source": [
    "# subqueries -- NOT IN\n",
    "# select all employees who doesnot belongs to Engineering department\n",
    "\n",
    "cur.execute(\"SELECT id, name, designation, salary, dept_id FROM employee WHERE dept_id NOT IN (SELECT id FROM department WHERE name='Engineering')\")\n",
    "data = cur.fetchall()\n",
    "\n",
    "print('Subquery using NOT IN\\n')\n",
    "for row in data:\n",
    "    print(row)"
   ]
  },
  {
   "cell_type": "code",
   "execution_count": 44,
   "id": "4bbdc34f",
   "metadata": {},
   "outputs": [
    {
     "name": "stdout",
     "output_type": "stream",
     "text": [
      "NAME: Umesh, DESIGNATION: Design Engineer, RANK: 1, DENSE_RANK: 1\n",
      "--------------------------------------------------------------------------------\n",
      "NAME: Luis, DESIGNATION: Developer, RANK: 2, DENSE_RANK: 2\n",
      "--------------------------------------------------------------------------------\n",
      "NAME: Luis, DESIGNATION: Developer, RANK: 2, DENSE_RANK: 2\n",
      "--------------------------------------------------------------------------------\n",
      "NAME: tyrion, DESIGNATION: Programmer, RANK: 4, DENSE_RANK: 3\n",
      "--------------------------------------------------------------------------------\n",
      "NAME: tyrion, DESIGNATION: Programmer, RANK: 4, DENSE_RANK: 3\n",
      "--------------------------------------------------------------------------------\n",
      "NAME: Andy, DESIGNATION: Senior Developer, RANK: 6, DENSE_RANK: 4\n",
      "--------------------------------------------------------------------------------\n",
      "NAME: Jadav, DESIGNATION: Software Engineer, RANK: 7, DENSE_RANK: 5\n",
      "--------------------------------------------------------------------------------\n",
      "NAME: Edith, DESIGNATION: Software Engineer, RANK: 7, DENSE_RANK: 5\n",
      "--------------------------------------------------------------------------------\n",
      "NAME: Madhav, DESIGNATION: Software Engineer, RANK: 7, DENSE_RANK: 5\n",
      "--------------------------------------------------------------------------------\n",
      "NAME: jon, DESIGNATION: System Engineer, RANK: 10, DENSE_RANK: 6\n",
      "--------------------------------------------------------------------------------\n",
      "NAME: david, DESIGNATION: System Engineer, RANK: 10, DENSE_RANK: 6\n",
      "--------------------------------------------------------------------------------\n"
     ]
    }
   ],
   "source": [
    "# RANK(), DENSE_RANK()\n",
    "# RANK window functions\n",
    "\n",
    "query = \"SELECT name, designation, RANK() OVER(ORDER BY designation) as rnk, DENSE_RANK() OVER(ORDER BY designation) as dense_rnk from employee\"\n",
    "cur.execute(query)\n",
    "data = cur.fetchall()\n",
    "\n",
    "for row in data:\n",
    "    print(f'NAME: {row[0]}, DESIGNATION: {row[1]}, RANK: {row[2]}, DENSE_RANK: {row[3]}')\n",
    "    print(\"-\"*80)"
   ]
  },
  {
   "cell_type": "code",
   "execution_count": 45,
   "id": "6a5df0bc",
   "metadata": {},
   "outputs": [
    {
     "name": "stdout",
     "output_type": "stream",
     "text": [
      "Name: Umesh, Designation: Design Engineer, Salary: 75000, RANK: 1\n",
      "--------------------------------------------------------------------------------\n",
      "Name: Luis, Designation: Developer, Salary: 70000, RANK: 1\n",
      "--------------------------------------------------------------------------------\n",
      "Name: Luis, Designation: Developer, Salary: 40000, RANK: 2\n",
      "--------------------------------------------------------------------------------\n",
      "Name: tyrion, Designation: Programmer, Salary: 120000, RANK: 1\n",
      "--------------------------------------------------------------------------------\n",
      "Name: tyrion, Designation: Programmer, Salary: 50000, RANK: 2\n",
      "--------------------------------------------------------------------------------\n",
      "Name: Andy, Designation: Senior Developer, Salary: 20000, RANK: 1\n",
      "--------------------------------------------------------------------------------\n",
      "Name: Edith, Designation: Software Engineer, Salary: 100000, RANK: 1\n",
      "--------------------------------------------------------------------------------\n",
      "Name: Jadav, Designation: Software Engineer, Salary: 70000, RANK: 2\n",
      "--------------------------------------------------------------------------------\n",
      "Name: Madhav, Designation: Software Engineer, Salary: 40000, RANK: 3\n",
      "--------------------------------------------------------------------------------\n",
      "Name: david, Designation: System Engineer, Salary: 60000, RANK: 1\n",
      "--------------------------------------------------------------------------------\n",
      "Name: jon, Designation: System Engineer, Salary: 51000, RANK: 2\n",
      "--------------------------------------------------------------------------------\n"
     ]
    }
   ],
   "source": [
    "# RANK() , PARTITION BY() window functions - for getting salary in descending order in every designation\n",
    "\n",
    "query = \"SELECT name, designation, salary, RANK() OVER(PARTITION BY designation ORDER BY salary DESC) as rnk from employee\"\n",
    "cur.execute(query)\n",
    "data = cur.fetchall()\n",
    "\n",
    "for row in data:\n",
    "    print(f'Name: {row[0]}, Designation: {row[1]}, Salary: {row[2]}, RANK: {row[3]}')\n",
    "    print(\"-\"*80)"
   ]
  },
  {
   "cell_type": "code",
   "execution_count": 46,
   "id": "b5f7e577",
   "metadata": {},
   "outputs": [
    {
     "name": "stdout",
     "output_type": "stream",
     "text": [
      "\n",
      "Umesh, Design Engineer, Salary:75000, MAX_sal:75000, MIN_sal:75000, COUNT:1, SUM_sal:75000, AVG_sal:75000.0 \n",
      "--------------------------------------------------------------------------------------------------------------\n",
      "Luis, Developer, Salary:40000, MAX_sal:70000, MIN_sal:40000, COUNT:2, SUM_sal:110000, AVG_sal:55000.0 \n",
      "--------------------------------------------------------------------------------------------------------------\n",
      "Luis, Developer, Salary:70000, MAX_sal:70000, MIN_sal:40000, COUNT:2, SUM_sal:110000, AVG_sal:55000.0 \n",
      "--------------------------------------------------------------------------------------------------------------\n",
      "tyrion, Programmer, Salary:120000, MAX_sal:120000, MIN_sal:50000, COUNT:2, SUM_sal:170000, AVG_sal:85000.0 \n",
      "--------------------------------------------------------------------------------------------------------------\n",
      "tyrion, Programmer, Salary:50000, MAX_sal:120000, MIN_sal:50000, COUNT:2, SUM_sal:170000, AVG_sal:85000.0 \n",
      "--------------------------------------------------------------------------------------------------------------\n",
      "Andy, Senior Developer, Salary:20000, MAX_sal:20000, MIN_sal:20000, COUNT:1, SUM_sal:20000, AVG_sal:20000.0 \n",
      "--------------------------------------------------------------------------------------------------------------\n",
      "Jadav, Software Engineer, Salary:70000, MAX_sal:100000, MIN_sal:40000, COUNT:3, SUM_sal:210000, AVG_sal:70000.0 \n",
      "--------------------------------------------------------------------------------------------------------------\n",
      "Edith, Software Engineer, Salary:100000, MAX_sal:100000, MIN_sal:40000, COUNT:3, SUM_sal:210000, AVG_sal:70000.0 \n",
      "--------------------------------------------------------------------------------------------------------------\n",
      "Madhav, Software Engineer, Salary:40000, MAX_sal:100000, MIN_sal:40000, COUNT:3, SUM_sal:210000, AVG_sal:70000.0 \n",
      "--------------------------------------------------------------------------------------------------------------\n",
      "jon, System Engineer, Salary:51000, MAX_sal:60000, MIN_sal:51000, COUNT:2, SUM_sal:111000, AVG_sal:55500.0 \n",
      "--------------------------------------------------------------------------------------------------------------\n",
      "david, System Engineer, Salary:60000, MAX_sal:60000, MIN_sal:51000, COUNT:2, SUM_sal:111000, AVG_sal:55500.0 \n",
      "--------------------------------------------------------------------------------------------------------------\n"
     ]
    }
   ],
   "source": [
    "# for getting MIN, MAX, SUM, COUNT, AVG salary of salary of employees for every designation\n",
    "# Aggregate window functions\n",
    "\n",
    "query = \"SELECT name, designation, salary, MAX(salary) OVER(PARTITION BY designation) as max_salary, MIN(salary) OVER(PARTITION BY designation) as min_salary, COUNT(*) OVER(PARTITION BY designation) as count, SUM(salary) OVER(PARTITION BY designation) as sum_salary, ROUND(AVG(salary) OVER(PARTITION BY designation), 1) as avg_salary from employee\"\n",
    "cur.execute(query)\n",
    "data = cur.fetchall()\n",
    "\n",
    "print()\n",
    "for row in data:\n",
    "    print(f'{row[0]}, {row[1]}, Salary:{row[2]}, MAX_sal:{row[3]}, MIN_sal:{row[4]}, COUNT:{row[5]}, SUM_sal:{row[6]}, AVG_sal:{row[7]} ')\n",
    "    print(\"-\"*110)\n",
    "#     print()"
   ]
  },
  {
   "cell_type": "code",
   "execution_count": null,
   "id": "892aea28",
   "metadata": {},
   "outputs": [],
   "source": []
  }
 ],
 "metadata": {
  "kernelspec": {
   "display_name": "Python 3 (ipykernel)",
   "language": "python",
   "name": "python3"
  },
  "language_info": {
   "codemirror_mode": {
    "name": "ipython",
    "version": 3
   },
   "file_extension": ".py",
   "mimetype": "text/x-python",
   "name": "python",
   "nbconvert_exporter": "python",
   "pygments_lexer": "ipython3",
   "version": "3.11.3"
  }
 },
 "nbformat": 4,
 "nbformat_minor": 5
}
